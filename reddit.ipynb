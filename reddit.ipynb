{
 "cells": [
  {
   "cell_type": "code",
   "execution_count": 2,
   "metadata": {},
   "outputs": [
    {
     "name": "stdout",
     "output_type": "stream",
     "text": [
      "Collecting praw\n",
      "  Downloading praw-7.7.0-py3-none-any.whl (189 kB)\n",
      "     -------------------------------------- 189.4/189.4 kB 2.3 MB/s eta 0:00:00\n",
      "Collecting prawcore<3,>=2.1\n",
      "  Downloading prawcore-2.3.0-py3-none-any.whl (16 kB)\n",
      "Collecting update-checker>=0.18\n",
      "  Downloading update_checker-0.18.0-py3-none-any.whl (7.0 kB)\n",
      "Requirement already satisfied: websocket-client>=0.54.0 in c:\\users\\intel\\appdata\\local\\programs\\python\\python311\\lib\\site-packages (from praw) (1.4.2)\n",
      "Requirement already satisfied: requests<3.0,>=2.6.0 in c:\\users\\intel\\appdata\\local\\programs\\python\\python311\\lib\\site-packages (from prawcore<3,>=2.1->praw) (2.28.2)\n",
      "Requirement already satisfied: charset-normalizer<4,>=2 in c:\\users\\intel\\appdata\\local\\programs\\python\\python311\\lib\\site-packages (from requests<3.0,>=2.6.0->prawcore<3,>=2.1->praw) (3.0.1)\n",
      "Requirement already satisfied: idna<4,>=2.5 in c:\\users\\intel\\appdata\\local\\programs\\python\\python311\\lib\\site-packages (from requests<3.0,>=2.6.0->prawcore<3,>=2.1->praw) (3.4)\n",
      "Requirement already satisfied: urllib3<1.27,>=1.21.1 in c:\\users\\intel\\appdata\\local\\programs\\python\\python311\\lib\\site-packages (from requests<3.0,>=2.6.0->prawcore<3,>=2.1->praw) (1.26.14)\n",
      "Requirement already satisfied: certifi>=2017.4.17 in c:\\users\\intel\\appdata\\local\\programs\\python\\python311\\lib\\site-packages (from requests<3.0,>=2.6.0->prawcore<3,>=2.1->praw) (2022.12.7)\n",
      "Installing collected packages: update-checker, prawcore, praw\n",
      "Successfully installed praw-7.7.0 prawcore-2.3.0 update-checker-0.18.0\n",
      "Note: you may need to restart the kernel to use updated packages.\n"
     ]
    },
    {
     "name": "stderr",
     "output_type": "stream",
     "text": [
      "\n",
      "[notice] A new release of pip available: 22.3 -> 23.0.1\n",
      "[notice] To update, run: python.exe -m pip install --upgrade pip\n"
     ]
    }
   ],
   "source": [
    "pip install praw "
   ]
  },
  {
   "cell_type": "code",
   "execution_count": 3,
   "metadata": {},
   "outputs": [
    {
     "name": "stdout",
     "output_type": "stream",
     "text": [
      "Requirement already satisfied: pip in c:\\users\\intel\\appdata\\local\\programs\\python\\python311\\lib\\site-packages (22.3)Note: you may need to restart the kernel to use updated packages.\n",
      "\n",
      "Collecting pip\n",
      "  Downloading pip-23.0.1-py3-none-any.whl (2.1 MB)\n",
      "     ---------------------------------------- 2.1/2.1 MB 8.2 MB/s eta 0:00:00\n",
      "Installing collected packages: pip\n",
      "  Attempting uninstall: pip\n",
      "    Found existing installation: pip 22.3\n",
      "    Uninstalling pip-22.3:\n",
      "      Successfully uninstalled pip-22.3\n",
      "Successfully installed pip-23.0.1\n"
     ]
    }
   ],
   "source": [
    "pip install --upgrade pip"
   ]
  },
  {
   "cell_type": "code",
   "execution_count": 4,
   "metadata": {},
   "outputs": [
    {
     "name": "stdout",
     "output_type": "stream",
     "text": [
      "Requirement already satisfied: pymongo in c:\\users\\intel\\appdata\\local\\programs\\python\\python311\\lib\\site-packages (4.3.3)Note: you may need to restart the kernel to use updated packages.\n",
      "\n",
      "Requirement already satisfied: dnspython<3.0.0,>=1.16.0 in c:\\users\\intel\\appdata\\local\\programs\\python\\python311\\lib\\site-packages (from pymongo) (2.3.0)\n"
     ]
    }
   ],
   "source": [
    "pip install pymongo"
   ]
  },
  {
   "cell_type": "code",
   "execution_count": 8,
   "metadata": {},
   "outputs": [],
   "source": [
    "import pymongo\n",
    "\n",
    "client = pymongo.MongoClient(\"mongodb://localhost:27017\")\n",
    "\n",
    "db = client[\"REDDIT\"]"
   ]
  },
  {
   "cell_type": "code",
   "execution_count": 7,
   "metadata": {},
   "outputs": [],
   "source": [
    "import praw \n",
    "\n",
    "reddit = praw.Reddit(client_id = 'CHPmW6J7LoWO5mBFy157LA', client_secret='53tpA16g9mv83_oHYvAra6ZYKSrlkg',\n",
    "                     username='Marlo_GUI ', password='Supra-1925', user_agent='myBot/0.0.1')\n"
   ]
  },
  {
   "cell_type": "code",
   "execution_count": 9,
   "metadata": {},
   "outputs": [
    {
     "ename": "OAuthException",
     "evalue": "unauthorized_client error processing request (Only script apps may use password auth)",
     "output_type": "error",
     "traceback": [
      "\u001b[1;31m---------------------------------------------------------------------------\u001b[0m",
      "\u001b[1;31mOAuthException\u001b[0m                            Traceback (most recent call last)",
      "Cell \u001b[1;32mIn [9], line 8\u001b[0m\n\u001b[0;32m      5\u001b[0m \u001b[39m# Insertar datos en una colección de MongoDB\u001b[39;00m\n\u001b[0;32m      6\u001b[0m collection \u001b[39m=\u001b[39m db[\u001b[39m\"\u001b[39m\u001b[39mreddit_data\u001b[39m\u001b[39m\"\u001b[39m]\n\u001b[1;32m----> 8\u001b[0m \u001b[39mfor\u001b[39;00m thread \u001b[39min\u001b[39;00m top_python:\n\u001b[0;32m      9\u001b[0m     collection\u001b[39m.\u001b[39minsert_one(thread\u001b[39m.\u001b[39m\u001b[39m__dict__\u001b[39m[\u001b[39m\"\u001b[39m\u001b[39m_reddit_data\u001b[39m\u001b[39m\"\u001b[39m])\n",
      "File \u001b[1;32mc:\\Users\\Intel\\AppData\\Local\\Programs\\Python\\Python311\\Lib\\site-packages\\praw\\models\\listing\\generator.py:63\u001b[0m, in \u001b[0;36mListingGenerator.__next__\u001b[1;34m(self)\u001b[0m\n\u001b[0;32m     60\u001b[0m     \u001b[39mraise\u001b[39;00m \u001b[39mStopIteration\u001b[39;00m()\n\u001b[0;32m     62\u001b[0m \u001b[39mif\u001b[39;00m \u001b[39mself\u001b[39m\u001b[39m.\u001b[39m_listing \u001b[39mis\u001b[39;00m \u001b[39mNone\u001b[39;00m \u001b[39mor\u001b[39;00m \u001b[39mself\u001b[39m\u001b[39m.\u001b[39m_list_index \u001b[39m>\u001b[39m\u001b[39m=\u001b[39m \u001b[39mlen\u001b[39m(\u001b[39mself\u001b[39m\u001b[39m.\u001b[39m_listing):\n\u001b[1;32m---> 63\u001b[0m     \u001b[39mself\u001b[39;49m\u001b[39m.\u001b[39;49m_next_batch()\n\u001b[0;32m     65\u001b[0m \u001b[39mself\u001b[39m\u001b[39m.\u001b[39m_list_index \u001b[39m+\u001b[39m\u001b[39m=\u001b[39m \u001b[39m1\u001b[39m\n\u001b[0;32m     66\u001b[0m \u001b[39mself\u001b[39m\u001b[39m.\u001b[39myielded \u001b[39m+\u001b[39m\u001b[39m=\u001b[39m \u001b[39m1\u001b[39m\n",
      "File \u001b[1;32mc:\\Users\\Intel\\AppData\\Local\\Programs\\Python\\Python311\\Lib\\site-packages\\praw\\models\\listing\\generator.py:89\u001b[0m, in \u001b[0;36mListingGenerator._next_batch\u001b[1;34m(self)\u001b[0m\n\u001b[0;32m     86\u001b[0m \u001b[39mif\u001b[39;00m \u001b[39mself\u001b[39m\u001b[39m.\u001b[39m_exhausted:\n\u001b[0;32m     87\u001b[0m     \u001b[39mraise\u001b[39;00m \u001b[39mStopIteration\u001b[39;00m()\n\u001b[1;32m---> 89\u001b[0m \u001b[39mself\u001b[39m\u001b[39m.\u001b[39m_listing \u001b[39m=\u001b[39m \u001b[39mself\u001b[39;49m\u001b[39m.\u001b[39;49m_reddit\u001b[39m.\u001b[39;49mget(\u001b[39mself\u001b[39;49m\u001b[39m.\u001b[39;49murl, params\u001b[39m=\u001b[39;49m\u001b[39mself\u001b[39;49m\u001b[39m.\u001b[39;49mparams)\n\u001b[0;32m     90\u001b[0m \u001b[39mself\u001b[39m\u001b[39m.\u001b[39m_listing \u001b[39m=\u001b[39m \u001b[39mself\u001b[39m\u001b[39m.\u001b[39m_extract_sublist(\u001b[39mself\u001b[39m\u001b[39m.\u001b[39m_listing)\n\u001b[0;32m     91\u001b[0m \u001b[39mself\u001b[39m\u001b[39m.\u001b[39m_list_index \u001b[39m=\u001b[39m \u001b[39m0\u001b[39m\n",
      "File \u001b[1;32mc:\\Users\\Intel\\AppData\\Local\\Programs\\Python\\Python311\\Lib\\site-packages\\praw\\util\\deprecate_args.py:43\u001b[0m, in \u001b[0;36m_deprecate_args.<locals>.wrapper.<locals>.wrapped\u001b[1;34m(*args, **kwargs)\u001b[0m\n\u001b[0;32m     36\u001b[0m     arg_string \u001b[39m=\u001b[39m _generate_arg_string(_old_args[: \u001b[39mlen\u001b[39m(args)])\n\u001b[0;32m     37\u001b[0m     warn(\n\u001b[0;32m     38\u001b[0m         \u001b[39mf\u001b[39m\u001b[39m\"\u001b[39m\u001b[39mPositional arguments for \u001b[39m\u001b[39m{\u001b[39;00mfunc\u001b[39m.\u001b[39m\u001b[39m__qualname__\u001b[39m\u001b[39m!r}\u001b[39;00m\u001b[39m will no longer be\u001b[39m\u001b[39m\"\u001b[39m\n\u001b[0;32m     39\u001b[0m         \u001b[39mf\u001b[39m\u001b[39m\"\u001b[39m\u001b[39m supported in PRAW 8.\u001b[39m\u001b[39m\\n\u001b[39;00m\u001b[39mCall this function with \u001b[39m\u001b[39m{\u001b[39;00marg_string\u001b[39m}\u001b[39;00m\u001b[39m.\u001b[39m\u001b[39m\"\u001b[39m,\n\u001b[0;32m     40\u001b[0m         \u001b[39mDeprecationWarning\u001b[39;00m,\n\u001b[0;32m     41\u001b[0m         stacklevel\u001b[39m=\u001b[39m\u001b[39m2\u001b[39m,\n\u001b[0;32m     42\u001b[0m     )\n\u001b[1;32m---> 43\u001b[0m \u001b[39mreturn\u001b[39;00m func(\u001b[39m*\u001b[39;49m\u001b[39m*\u001b[39;49m\u001b[39mdict\u001b[39;49m(\u001b[39mzip\u001b[39;49m(_old_args, args)), \u001b[39m*\u001b[39;49m\u001b[39m*\u001b[39;49mkwargs)\n",
      "File \u001b[1;32mc:\\Users\\Intel\\AppData\\Local\\Programs\\Python\\Python311\\Lib\\site-packages\\praw\\reddit.py:712\u001b[0m, in \u001b[0;36mReddit.get\u001b[1;34m(self, path, params)\u001b[0m\n\u001b[0;32m    699\u001b[0m \u001b[39m@_deprecate_args\u001b[39m(\u001b[39m\"\u001b[39m\u001b[39mpath\u001b[39m\u001b[39m\"\u001b[39m, \u001b[39m\"\u001b[39m\u001b[39mparams\u001b[39m\u001b[39m\"\u001b[39m)\n\u001b[0;32m    700\u001b[0m \u001b[39mdef\u001b[39;00m \u001b[39mget\u001b[39m(\n\u001b[0;32m    701\u001b[0m     \u001b[39mself\u001b[39m,\n\u001b[1;32m   (...)\u001b[0m\n\u001b[0;32m    704\u001b[0m     params: Optional[Union[\u001b[39mstr\u001b[39m, Dict[\u001b[39mstr\u001b[39m, Union[\u001b[39mstr\u001b[39m, \u001b[39mint\u001b[39m]]]] \u001b[39m=\u001b[39m \u001b[39mNone\u001b[39;00m,\n\u001b[0;32m    705\u001b[0m ):\n\u001b[0;32m    706\u001b[0m     \u001b[39m\"\"\"Return parsed objects returned from a GET request to ``path``.\u001b[39;00m\n\u001b[0;32m    707\u001b[0m \n\u001b[0;32m    708\u001b[0m \u001b[39m    :param path: The path to fetch.\u001b[39;00m\n\u001b[0;32m    709\u001b[0m \u001b[39m    :param params: The query parameters to add to the request (default: ``None``).\u001b[39;00m\n\u001b[0;32m    710\u001b[0m \n\u001b[0;32m    711\u001b[0m \u001b[39m    \"\"\"\u001b[39;00m\n\u001b[1;32m--> 712\u001b[0m     \u001b[39mreturn\u001b[39;00m \u001b[39mself\u001b[39;49m\u001b[39m.\u001b[39;49m_objectify_request(method\u001b[39m=\u001b[39;49m\u001b[39m\"\u001b[39;49m\u001b[39mGET\u001b[39;49m\u001b[39m\"\u001b[39;49m, params\u001b[39m=\u001b[39;49mparams, path\u001b[39m=\u001b[39;49mpath)\n",
      "File \u001b[1;32mc:\\Users\\Intel\\AppData\\Local\\Programs\\Python\\Python311\\Lib\\site-packages\\praw\\reddit.py:517\u001b[0m, in \u001b[0;36mReddit._objectify_request\u001b[1;34m(self, data, files, json, method, params, path)\u001b[0m\n\u001b[0;32m    491\u001b[0m \u001b[39mdef\u001b[39;00m \u001b[39m_objectify_request\u001b[39m(\n\u001b[0;32m    492\u001b[0m     \u001b[39mself\u001b[39m,\n\u001b[0;32m    493\u001b[0m     \u001b[39m*\u001b[39m,\n\u001b[1;32m   (...)\u001b[0m\n\u001b[0;32m    499\u001b[0m     path: \u001b[39mstr\u001b[39m \u001b[39m=\u001b[39m \u001b[39m\"\u001b[39m\u001b[39m\"\u001b[39m,\n\u001b[0;32m    500\u001b[0m ) \u001b[39m-\u001b[39m\u001b[39m>\u001b[39m Any:\n\u001b[0;32m    501\u001b[0m     \u001b[39m\"\"\"Run a request through the ``Objector``.\u001b[39;00m\n\u001b[0;32m    502\u001b[0m \n\u001b[0;32m    503\u001b[0m \u001b[39m    :param data: Dictionary, bytes, or file-like object to send in the body of the\u001b[39;00m\n\u001b[1;32m   (...)\u001b[0m\n\u001b[0;32m    514\u001b[0m \n\u001b[0;32m    515\u001b[0m \u001b[39m    \"\"\"\u001b[39;00m\n\u001b[0;32m    516\u001b[0m     \u001b[39mreturn\u001b[39;00m \u001b[39mself\u001b[39m\u001b[39m.\u001b[39m_objector\u001b[39m.\u001b[39mobjectify(\n\u001b[1;32m--> 517\u001b[0m         \u001b[39mself\u001b[39;49m\u001b[39m.\u001b[39;49mrequest(\n\u001b[0;32m    518\u001b[0m             data\u001b[39m=\u001b[39;49mdata,\n\u001b[0;32m    519\u001b[0m             files\u001b[39m=\u001b[39;49mfiles,\n\u001b[0;32m    520\u001b[0m             json\u001b[39m=\u001b[39;49mjson,\n\u001b[0;32m    521\u001b[0m             method\u001b[39m=\u001b[39;49mmethod,\n\u001b[0;32m    522\u001b[0m             params\u001b[39m=\u001b[39;49mparams,\n\u001b[0;32m    523\u001b[0m             path\u001b[39m=\u001b[39;49mpath,\n\u001b[0;32m    524\u001b[0m         )\n\u001b[0;32m    525\u001b[0m     )\n",
      "File \u001b[1;32mc:\\Users\\Intel\\AppData\\Local\\Programs\\Python\\Python311\\Lib\\site-packages\\praw\\util\\deprecate_args.py:43\u001b[0m, in \u001b[0;36m_deprecate_args.<locals>.wrapper.<locals>.wrapped\u001b[1;34m(*args, **kwargs)\u001b[0m\n\u001b[0;32m     36\u001b[0m     arg_string \u001b[39m=\u001b[39m _generate_arg_string(_old_args[: \u001b[39mlen\u001b[39m(args)])\n\u001b[0;32m     37\u001b[0m     warn(\n\u001b[0;32m     38\u001b[0m         \u001b[39mf\u001b[39m\u001b[39m\"\u001b[39m\u001b[39mPositional arguments for \u001b[39m\u001b[39m{\u001b[39;00mfunc\u001b[39m.\u001b[39m\u001b[39m__qualname__\u001b[39m\u001b[39m!r}\u001b[39;00m\u001b[39m will no longer be\u001b[39m\u001b[39m\"\u001b[39m\n\u001b[0;32m     39\u001b[0m         \u001b[39mf\u001b[39m\u001b[39m\"\u001b[39m\u001b[39m supported in PRAW 8.\u001b[39m\u001b[39m\\n\u001b[39;00m\u001b[39mCall this function with \u001b[39m\u001b[39m{\u001b[39;00marg_string\u001b[39m}\u001b[39;00m\u001b[39m.\u001b[39m\u001b[39m\"\u001b[39m,\n\u001b[0;32m     40\u001b[0m         \u001b[39mDeprecationWarning\u001b[39;00m,\n\u001b[0;32m     41\u001b[0m         stacklevel\u001b[39m=\u001b[39m\u001b[39m2\u001b[39m,\n\u001b[0;32m     42\u001b[0m     )\n\u001b[1;32m---> 43\u001b[0m \u001b[39mreturn\u001b[39;00m func(\u001b[39m*\u001b[39;49m\u001b[39m*\u001b[39;49m\u001b[39mdict\u001b[39;49m(\u001b[39mzip\u001b[39;49m(_old_args, args)), \u001b[39m*\u001b[39;49m\u001b[39m*\u001b[39;49mkwargs)\n",
      "File \u001b[1;32mc:\\Users\\Intel\\AppData\\Local\\Programs\\Python\\Python311\\Lib\\site-packages\\praw\\reddit.py:941\u001b[0m, in \u001b[0;36mReddit.request\u001b[1;34m(self, data, files, json, method, params, path)\u001b[0m\n\u001b[0;32m    939\u001b[0m     \u001b[39mraise\u001b[39;00m ClientException(\u001b[39m\"\u001b[39m\u001b[39mAt most one of \u001b[39m\u001b[39m'\u001b[39m\u001b[39mdata\u001b[39m\u001b[39m'\u001b[39m\u001b[39m or \u001b[39m\u001b[39m'\u001b[39m\u001b[39mjson\u001b[39m\u001b[39m'\u001b[39m\u001b[39m is supported.\u001b[39m\u001b[39m\"\u001b[39m)\n\u001b[0;32m    940\u001b[0m \u001b[39mtry\u001b[39;00m:\n\u001b[1;32m--> 941\u001b[0m     \u001b[39mreturn\u001b[39;00m \u001b[39mself\u001b[39;49m\u001b[39m.\u001b[39;49m_core\u001b[39m.\u001b[39;49mrequest(\n\u001b[0;32m    942\u001b[0m         data\u001b[39m=\u001b[39;49mdata,\n\u001b[0;32m    943\u001b[0m         files\u001b[39m=\u001b[39;49mfiles,\n\u001b[0;32m    944\u001b[0m         json\u001b[39m=\u001b[39;49mjson,\n\u001b[0;32m    945\u001b[0m         method\u001b[39m=\u001b[39;49mmethod,\n\u001b[0;32m    946\u001b[0m         params\u001b[39m=\u001b[39;49mparams,\n\u001b[0;32m    947\u001b[0m         path\u001b[39m=\u001b[39;49mpath,\n\u001b[0;32m    948\u001b[0m     )\n\u001b[0;32m    949\u001b[0m \u001b[39mexcept\u001b[39;00m BadRequest \u001b[39mas\u001b[39;00m exception:\n\u001b[0;32m    950\u001b[0m     \u001b[39mtry\u001b[39;00m:\n",
      "File \u001b[1;32mc:\\Users\\Intel\\AppData\\Local\\Programs\\Python\\Python311\\Lib\\site-packages\\prawcore\\sessions.py:330\u001b[0m, in \u001b[0;36mSession.request\u001b[1;34m(self, method, path, data, files, json, params, timeout)\u001b[0m\n\u001b[0;32m    328\u001b[0m     json[\u001b[39m\"\u001b[39m\u001b[39mapi_type\u001b[39m\u001b[39m\"\u001b[39m] \u001b[39m=\u001b[39m \u001b[39m\"\u001b[39m\u001b[39mjson\u001b[39m\u001b[39m\"\u001b[39m\n\u001b[0;32m    329\u001b[0m url \u001b[39m=\u001b[39m urljoin(\u001b[39mself\u001b[39m\u001b[39m.\u001b[39m_requestor\u001b[39m.\u001b[39moauth_url, path)\n\u001b[1;32m--> 330\u001b[0m \u001b[39mreturn\u001b[39;00m \u001b[39mself\u001b[39;49m\u001b[39m.\u001b[39;49m_request_with_retries(\n\u001b[0;32m    331\u001b[0m     data\u001b[39m=\u001b[39;49mdata,\n\u001b[0;32m    332\u001b[0m     files\u001b[39m=\u001b[39;49mfiles,\n\u001b[0;32m    333\u001b[0m     json\u001b[39m=\u001b[39;49mjson,\n\u001b[0;32m    334\u001b[0m     method\u001b[39m=\u001b[39;49mmethod,\n\u001b[0;32m    335\u001b[0m     params\u001b[39m=\u001b[39;49mparams,\n\u001b[0;32m    336\u001b[0m     timeout\u001b[39m=\u001b[39;49mtimeout,\n\u001b[0;32m    337\u001b[0m     url\u001b[39m=\u001b[39;49murl,\n\u001b[0;32m    338\u001b[0m )\n",
      "File \u001b[1;32mc:\\Users\\Intel\\AppData\\Local\\Programs\\Python\\Python311\\Lib\\site-packages\\prawcore\\sessions.py:228\u001b[0m, in \u001b[0;36mSession._request_with_retries\u001b[1;34m(self, data, files, json, method, params, timeout, url, retry_strategy_state)\u001b[0m\n\u001b[0;32m    226\u001b[0m retry_strategy_state\u001b[39m.\u001b[39msleep()\n\u001b[0;32m    227\u001b[0m \u001b[39mself\u001b[39m\u001b[39m.\u001b[39m_log_request(data, method, params, url)\n\u001b[1;32m--> 228\u001b[0m response, saved_exception \u001b[39m=\u001b[39m \u001b[39mself\u001b[39;49m\u001b[39m.\u001b[39;49m_make_request(\n\u001b[0;32m    229\u001b[0m     data,\n\u001b[0;32m    230\u001b[0m     files,\n\u001b[0;32m    231\u001b[0m     json,\n\u001b[0;32m    232\u001b[0m     method,\n\u001b[0;32m    233\u001b[0m     params,\n\u001b[0;32m    234\u001b[0m     retry_strategy_state,\n\u001b[0;32m    235\u001b[0m     timeout,\n\u001b[0;32m    236\u001b[0m     url,\n\u001b[0;32m    237\u001b[0m )\n\u001b[0;32m    239\u001b[0m do_retry \u001b[39m=\u001b[39m \u001b[39mFalse\u001b[39;00m\n\u001b[0;32m    240\u001b[0m \u001b[39mif\u001b[39;00m (\n\u001b[0;32m    241\u001b[0m     response \u001b[39mis\u001b[39;00m \u001b[39mnot\u001b[39;00m \u001b[39mNone\u001b[39;00m\n\u001b[0;32m    242\u001b[0m     \u001b[39mand\u001b[39;00m response\u001b[39m.\u001b[39mstatus_code \u001b[39m==\u001b[39m codes[\u001b[39m\"\u001b[39m\u001b[39munauthorized\u001b[39m\u001b[39m\"\u001b[39m]\n\u001b[0;32m    243\u001b[0m ):\n",
      "File \u001b[1;32mc:\\Users\\Intel\\AppData\\Local\\Programs\\Python\\Python311\\Lib\\site-packages\\prawcore\\sessions.py:185\u001b[0m, in \u001b[0;36mSession._make_request\u001b[1;34m(self, data, files, json, method, params, retry_strategy_state, timeout, url)\u001b[0m\n\u001b[0;32m    173\u001b[0m \u001b[39mdef\u001b[39;00m \u001b[39m_make_request\u001b[39m(\n\u001b[0;32m    174\u001b[0m     \u001b[39mself\u001b[39m,\n\u001b[0;32m    175\u001b[0m     data,\n\u001b[1;32m   (...)\u001b[0m\n\u001b[0;32m    182\u001b[0m     url,\n\u001b[0;32m    183\u001b[0m ):\n\u001b[0;32m    184\u001b[0m     \u001b[39mtry\u001b[39;00m:\n\u001b[1;32m--> 185\u001b[0m         response \u001b[39m=\u001b[39m \u001b[39mself\u001b[39;49m\u001b[39m.\u001b[39;49m_rate_limiter\u001b[39m.\u001b[39;49mcall(\n\u001b[0;32m    186\u001b[0m             \u001b[39mself\u001b[39;49m\u001b[39m.\u001b[39;49m_requestor\u001b[39m.\u001b[39;49mrequest,\n\u001b[0;32m    187\u001b[0m             \u001b[39mself\u001b[39;49m\u001b[39m.\u001b[39;49m_set_header_callback,\n\u001b[0;32m    188\u001b[0m             method,\n\u001b[0;32m    189\u001b[0m             url,\n\u001b[0;32m    190\u001b[0m             allow_redirects\u001b[39m=\u001b[39;49m\u001b[39mFalse\u001b[39;49;00m,\n\u001b[0;32m    191\u001b[0m             data\u001b[39m=\u001b[39;49mdata,\n\u001b[0;32m    192\u001b[0m             files\u001b[39m=\u001b[39;49mfiles,\n\u001b[0;32m    193\u001b[0m             json\u001b[39m=\u001b[39;49mjson,\n\u001b[0;32m    194\u001b[0m             params\u001b[39m=\u001b[39;49mparams,\n\u001b[0;32m    195\u001b[0m             timeout\u001b[39m=\u001b[39;49mtimeout,\n\u001b[0;32m    196\u001b[0m         )\n\u001b[0;32m    197\u001b[0m         log\u001b[39m.\u001b[39mdebug(\n\u001b[0;32m    198\u001b[0m             \u001b[39mf\u001b[39m\u001b[39m\"\u001b[39m\u001b[39mResponse: \u001b[39m\u001b[39m{\u001b[39;00mresponse\u001b[39m.\u001b[39mstatus_code\u001b[39m}\u001b[39;00m\u001b[39m\"\u001b[39m\n\u001b[0;32m    199\u001b[0m             \u001b[39mf\u001b[39m\u001b[39m\"\u001b[39m\u001b[39m (\u001b[39m\u001b[39m{\u001b[39;00mresponse\u001b[39m.\u001b[39mheaders\u001b[39m.\u001b[39mget(\u001b[39m'\u001b[39m\u001b[39mcontent-length\u001b[39m\u001b[39m'\u001b[39m)\u001b[39m}\u001b[39;00m\u001b[39m bytes)\u001b[39m\u001b[39m\"\u001b[39m\n\u001b[0;32m    200\u001b[0m         )\n\u001b[0;32m    201\u001b[0m         \u001b[39mreturn\u001b[39;00m response, \u001b[39mNone\u001b[39;00m\n",
      "File \u001b[1;32mc:\\Users\\Intel\\AppData\\Local\\Programs\\Python\\Python311\\Lib\\site-packages\\prawcore\\rate_limit.py:33\u001b[0m, in \u001b[0;36mRateLimiter.call\u001b[1;34m(self, request_function, set_header_callback, *args, **kwargs)\u001b[0m\n\u001b[0;32m     23\u001b[0m \u001b[39m\"\"\"Rate limit the call to request_function.\u001b[39;00m\n\u001b[0;32m     24\u001b[0m \n\u001b[0;32m     25\u001b[0m \u001b[39m:param request_function: A function call that returns an HTTP response object.\u001b[39;00m\n\u001b[1;32m   (...)\u001b[0m\n\u001b[0;32m     30\u001b[0m \n\u001b[0;32m     31\u001b[0m \u001b[39m\"\"\"\u001b[39;00m\n\u001b[0;32m     32\u001b[0m \u001b[39mself\u001b[39m\u001b[39m.\u001b[39mdelay()\n\u001b[1;32m---> 33\u001b[0m kwargs[\u001b[39m\"\u001b[39m\u001b[39mheaders\u001b[39m\u001b[39m\"\u001b[39m] \u001b[39m=\u001b[39m set_header_callback()\n\u001b[0;32m     34\u001b[0m response \u001b[39m=\u001b[39m request_function(\u001b[39m*\u001b[39margs, \u001b[39m*\u001b[39m\u001b[39m*\u001b[39mkwargs)\n\u001b[0;32m     35\u001b[0m \u001b[39mself\u001b[39m\u001b[39m.\u001b[39mupdate(response\u001b[39m.\u001b[39mheaders)\n",
      "File \u001b[1;32mc:\\Users\\Intel\\AppData\\Local\\Programs\\Python\\Python311\\Lib\\site-packages\\prawcore\\sessions.py:283\u001b[0m, in \u001b[0;36mSession._set_header_callback\u001b[1;34m(self)\u001b[0m\n\u001b[0;32m    279\u001b[0m \u001b[39mdef\u001b[39;00m \u001b[39m_set_header_callback\u001b[39m(\u001b[39mself\u001b[39m):\n\u001b[0;32m    280\u001b[0m     \u001b[39mif\u001b[39;00m \u001b[39mnot\u001b[39;00m \u001b[39mself\u001b[39m\u001b[39m.\u001b[39m_authorizer\u001b[39m.\u001b[39mis_valid() \u001b[39mand\u001b[39;00m \u001b[39mhasattr\u001b[39m(\n\u001b[0;32m    281\u001b[0m         \u001b[39mself\u001b[39m\u001b[39m.\u001b[39m_authorizer, \u001b[39m\"\u001b[39m\u001b[39mrefresh\u001b[39m\u001b[39m\"\u001b[39m\n\u001b[0;32m    282\u001b[0m     ):\n\u001b[1;32m--> 283\u001b[0m         \u001b[39mself\u001b[39;49m\u001b[39m.\u001b[39;49m_authorizer\u001b[39m.\u001b[39;49mrefresh()\n\u001b[0;32m    284\u001b[0m     \u001b[39mreturn\u001b[39;00m {\u001b[39m\"\u001b[39m\u001b[39mAuthorization\u001b[39m\u001b[39m\"\u001b[39m: \u001b[39mf\u001b[39m\u001b[39m\"\u001b[39m\u001b[39mbearer \u001b[39m\u001b[39m{\u001b[39;00m\u001b[39mself\u001b[39m\u001b[39m.\u001b[39m_authorizer\u001b[39m.\u001b[39maccess_token\u001b[39m}\u001b[39;00m\u001b[39m\"\u001b[39m}\n",
      "File \u001b[1;32mc:\\Users\\Intel\\AppData\\Local\\Programs\\Python\\Python311\\Lib\\site-packages\\prawcore\\auth.py:425\u001b[0m, in \u001b[0;36mScriptAuthorizer.refresh\u001b[1;34m(self)\u001b[0m\n\u001b[0;32m    423\u001b[0m \u001b[39mif\u001b[39;00m two_factor_code:\n\u001b[0;32m    424\u001b[0m     additional_kwargs[\u001b[39m\"\u001b[39m\u001b[39motp\u001b[39m\u001b[39m\"\u001b[39m] \u001b[39m=\u001b[39m two_factor_code\n\u001b[1;32m--> 425\u001b[0m \u001b[39mself\u001b[39;49m\u001b[39m.\u001b[39;49m_request_token(\n\u001b[0;32m    426\u001b[0m     grant_type\u001b[39m=\u001b[39;49m\u001b[39m\"\u001b[39;49m\u001b[39mpassword\u001b[39;49m\u001b[39m\"\u001b[39;49m,\n\u001b[0;32m    427\u001b[0m     username\u001b[39m=\u001b[39;49m\u001b[39mself\u001b[39;49m\u001b[39m.\u001b[39;49m_username,\n\u001b[0;32m    428\u001b[0m     password\u001b[39m=\u001b[39;49m\u001b[39mself\u001b[39;49m\u001b[39m.\u001b[39;49m_password,\n\u001b[0;32m    429\u001b[0m     \u001b[39m*\u001b[39;49m\u001b[39m*\u001b[39;49madditional_kwargs,\n\u001b[0;32m    430\u001b[0m )\n",
      "File \u001b[1;32mc:\\Users\\Intel\\AppData\\Local\\Programs\\Python\\Python311\\Lib\\site-packages\\prawcore\\auth.py:158\u001b[0m, in \u001b[0;36mBaseAuthorizer._request_token\u001b[1;34m(self, **data)\u001b[0m\n\u001b[0;32m    156\u001b[0m payload \u001b[39m=\u001b[39m response\u001b[39m.\u001b[39mjson()\n\u001b[0;32m    157\u001b[0m \u001b[39mif\u001b[39;00m \u001b[39m\"\u001b[39m\u001b[39merror\u001b[39m\u001b[39m\"\u001b[39m \u001b[39min\u001b[39;00m payload:  \u001b[39m# Why are these OKAY responses?\u001b[39;00m\n\u001b[1;32m--> 158\u001b[0m     \u001b[39mraise\u001b[39;00m OAuthException(\n\u001b[0;32m    159\u001b[0m         response, payload[\u001b[39m\"\u001b[39m\u001b[39merror\u001b[39m\u001b[39m\"\u001b[39m], payload\u001b[39m.\u001b[39mget(\u001b[39m\"\u001b[39m\u001b[39merror_description\u001b[39m\u001b[39m\"\u001b[39m)\n\u001b[0;32m    160\u001b[0m     )\n\u001b[0;32m    162\u001b[0m \u001b[39mself\u001b[39m\u001b[39m.\u001b[39m_expiration_timestamp \u001b[39m=\u001b[39m (\n\u001b[0;32m    163\u001b[0m     pre_request_time \u001b[39m-\u001b[39m \u001b[39m10\u001b[39m \u001b[39m+\u001b[39m payload[\u001b[39m\"\u001b[39m\u001b[39mexpires_in\u001b[39m\u001b[39m\"\u001b[39m]\n\u001b[0;32m    164\u001b[0m )\n\u001b[0;32m    165\u001b[0m \u001b[39mself\u001b[39m\u001b[39m.\u001b[39maccess_token \u001b[39m=\u001b[39m payload[\u001b[39m\"\u001b[39m\u001b[39maccess_token\u001b[39m\u001b[39m\"\u001b[39m]\n",
      "\u001b[1;31mOAuthException\u001b[0m: unauthorized_client error processing request (Only script apps may use password auth)"
     ]
    },
    {
     "ename": "",
     "evalue": "",
     "output_type": "error",
     "traceback": [
      "\u001b[1;31mEl Kernel se bloqueó al ejecutar código en la celda actual o en una celda anterior. Revise el código de las celdas para identificar una posible causa del error. Haga clic <a href='https://aka.ms/vscodeJupyterKernelCrash'>aquí</a> para obtener más información. Vea el [registro] de Jupyter (command:jupyter.viewOutput) para obtener más detalles."
     ]
    }
   ],
   "source": [
    "# Obtener los 10 principales hilos de la subreddit \"python\"\n",
    "subreddit = reddit.subreddit(\"python\")\n",
    "top_python = subreddit.top(limit=10)\n",
    "\n",
    "# Insertar datos en una colección de MongoDB\n",
    "collection = db[\"reddit_data\"]\n",
    "\n",
    "for thread in top_python:\n",
    "    collection.insert_one(thread.__dict__[\"_reddit_data\"])\n"
   ]
  }
 ],
 "metadata": {
  "kernelspec": {
   "display_name": "Python 3",
   "language": "python",
   "name": "python3"
  },
  "language_info": {
   "codemirror_mode": {
    "name": "ipython",
    "version": 3
   },
   "file_extension": ".py",
   "mimetype": "text/x-python",
   "name": "python",
   "nbconvert_exporter": "python",
   "pygments_lexer": "ipython3",
   "version": "3.11.0"
  },
  "orig_nbformat": 4,
  "vscode": {
   "interpreter": {
    "hash": "c0bfd4c4eac91d3939fc9e42e93ed036086d6e797444f9f70106a5f4e834bb6f"
   }
  }
 },
 "nbformat": 4,
 "nbformat_minor": 2
}
