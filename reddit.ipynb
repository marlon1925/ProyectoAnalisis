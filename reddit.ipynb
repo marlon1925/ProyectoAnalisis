{
 "cells": [
  {
   "cell_type": "code",
   "execution_count": 1,
   "metadata": {},
   "outputs": [
    {
     "name": "stdout",
     "output_type": "stream",
     "text": [
      "Requirement already satisfied: praw in c:\\users\\intel\\appdata\\local\\programs\\python\\python311\\lib\\site-packages (7.7.0)\n",
      "Requirement already satisfied: prawcore<3,>=2.1 in c:\\users\\intel\\appdata\\local\\programs\\python\\python311\\lib\\site-packages (from praw) (2.3.0)\n",
      "Requirement already satisfied: update-checker>=0.18 in c:\\users\\intel\\appdata\\local\\programs\\python\\python311\\lib\\site-packages (from praw) (0.18.0)\n",
      "Requirement already satisfied: websocket-client>=0.54.0 in c:\\users\\intel\\appdata\\local\\programs\\python\\python311\\lib\\site-packages (from praw) (1.4.2)\n",
      "Requirement already satisfied: requests<3.0,>=2.6.0 in c:\\users\\intel\\appdata\\local\\programs\\python\\python311\\lib\\site-packages (from prawcore<3,>=2.1->praw) (2.28.2)\n",
      "Requirement already satisfied: charset-normalizer<4,>=2 in c:\\users\\intel\\appdata\\local\\programs\\python\\python311\\lib\\site-packages (from requests<3.0,>=2.6.0->prawcore<3,>=2.1->praw) (3.0.1)\n",
      "Requirement already satisfied: idna<4,>=2.5 in c:\\users\\intel\\appdata\\local\\programs\\python\\python311\\lib\\site-packages (from requests<3.0,>=2.6.0->prawcore<3,>=2.1->praw) (3.4)\n",
      "Requirement already satisfied: urllib3<1.27,>=1.21.1 in c:\\users\\intel\\appdata\\local\\programs\\python\\python311\\lib\\site-packages (from requests<3.0,>=2.6.0->prawcore<3,>=2.1->praw) (1.26.14)\n",
      "Requirement already satisfied: certifi>=2017.4.17 in c:\\users\\intel\\appdata\\local\\programs\\python\\python311\\lib\\site-packages (from requests<3.0,>=2.6.0->prawcore<3,>=2.1->praw) (2022.12.7)\n",
      "Note: you may need to restart the kernel to use updated packages.\n"
     ]
    }
   ],
   "source": [
    "pip install praw"
   ]
  },
  {
   "cell_type": "code",
   "execution_count": 10,
   "metadata": {},
   "outputs": [],
   "source": [
    "import praw\n",
    "import pandas as pd\n",
    "\n",
    "# Configurar la instancia de PRAW\n",
    "reddit = praw.Reddit(\n",
    "    client_id=\"CHPmW6J7LoWO5mBFy157LA\",\n",
    "    client_secret=\"53tpA16g9mv83_oHYvAra6ZYKSrlkg\",\n",
    "    user_agent=\"Analisis\"\n",
    ")\n",
    "\n",
    "# Definir los parámetros de búsqueda\n",
    "subreddits = [\"empleos\", \"empleos_programacion\", \"programacion\"]\n",
    "query = \"programador OR programadora OR programación OR desarrollador OR desarrolladora OR desarrollo OR software OR coder OR coding OR codificación OR computación OR informática OR IT OR tecnología OR tech\"\n",
    "sort_by = \"relevance\"\n",
    "limit = 500\n",
    "\n",
    "# Realizar la búsqueda en los subreddits especificados\n",
    "results = reddit.subreddit(\"+\".join(subreddits)).search(query, sort=sort_by, limit=limit)\n",
    "\n",
    "# Crear una lista de diccionarios que contengan los datos de cada publicación\n",
    "data = []\n",
    "for post in results:\n",
    "    data.append({\n",
    "        \"Título\": post.title,\n",
    "        \"Autor\": post.author.name,\n",
    "        \"Fecha de publicación\": post.created_utc,\n",
    "        \"Contenido\": post.selftext,\n",
    "        \"Enlace\": post.url\n",
    "    })\n",
    "\n",
    "# Convertir la lista de diccionarios en un DataFrame de Pandas\n",
    "df = pd.DataFrame(data)\n",
    "\n",
    "# Guardar el DataFrame en un archivo CSV\n",
    "df.to_csv(\"empleos_programacion_python_reddit.csv\", index=False)\n"
   ]
  }
 ],
 "metadata": {
  "kernelspec": {
   "display_name": "Python 3",
   "language": "python",
   "name": "python3"
  },
  "language_info": {
   "codemirror_mode": {
    "name": "ipython",
    "version": 3
   },
   "file_extension": ".py",
   "mimetype": "text/x-python",
   "name": "python",
   "nbconvert_exporter": "python",
   "pygments_lexer": "ipython3",
   "version": "3.11.0"
  },
  "orig_nbformat": 4,
  "vscode": {
   "interpreter": {
    "hash": "c0bfd4c4eac91d3939fc9e42e93ed036086d6e797444f9f70106a5f4e834bb6f"
   }
  }
 },
 "nbformat": 4,
 "nbformat_minor": 2
}
