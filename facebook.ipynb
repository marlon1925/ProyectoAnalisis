{
 "cells": [
  {
   "cell_type": "code",
   "execution_count": 4,
   "id": "8624b16e",
   "metadata": {},
   "outputs": [
    {
     "name": "stdout",
     "output_type": "stream",
     "text": [
      "MongoDB connection: Conexion exitosa\n"
     ]
    }
   ],
   "source": [
    "from facebook_scraper import get_posts\n",
    "import json\n",
    "import time\n",
    "from pymongo import MongoClient\n",
    "\n",
    "myclient = MongoClient(\"mongodb://localhost:27017\") \n",
    " \n",
    "try:\n",
    "    myclient.admin.command('ismaster')\n",
    "    print('MongoDB connection: Conexion exitosa')\n",
    "except ConnectionFailure as cf:\n",
    "    print('MongoDB connection: Conexion fallida', cf)\n",
    "    \n",
    "#creo una base de datos\n",
    "db=myclient['Faceboo_Scraper']\n",
    "collection= db['desnutricion']\n",
    "\n",
    "i=1\n",
    "for post in get_posts('malnutrition', pages=10, extra_info=True):\n",
    "    print(i)\n",
    "    i=i+1\n",
    "    time.sleep(5)\n",
    "    \n",
    "    id=post['post_id']\n",
    "    doc={}\n",
    "     \n",
    "    doc['id']=id\n",
    "    \n",
    "    mydate=post['time']\n",
    "    \n",
    "    try:\n",
    "        doc['texto']=post['text']\n",
    "        doc['date']=mydate.timestamp()\n",
    "        doc['likes']=post['likes']\n",
    "        doc['comments']=post['comments']\n",
    "        doc['shares']=post['shares']\n",
    "        try:\n",
    "            doc['reactions']=post['reactions']\n",
    "        except:\n",
    "            doc['reactions']={}\n",
    "\n",
    "\n",
    "        doc['post_url']=post['post_url']\n",
    "        collection.insert_one(doc)\n",
    "\n",
    "    \n",
    "        print(\"guardado exitosamente\")\n",
    "\n",
    "    except Exception as e:    \n",
    "        print(\"no se pudo grabar:\" + str(e))"
   ]
  },
  {
   "cell_type": "code",
   "execution_count": 1,
   "id": "680d8763",
   "metadata": {},
   "outputs": [
    {
     "name": "stdout",
     "output_type": "stream",
     "text": [
      "Collecting facebook_scraper\n",
      "  Downloading facebook_scraper-0.2.59-py3-none-any.whl (45 kB)\n",
      "Collecting dateparser<2.0.0,>=1.0.0\n",
      "  Downloading dateparser-1.1.7-py2.py3-none-any.whl (293 kB)\n",
      "Collecting demjson3<4.0.0,>=3.0.5\n",
      "  Downloading demjson3-3.0.6.tar.gz (131 kB)\n",
      "Collecting requests-html<0.11.0,>=0.10.0\n",
      "  Downloading requests_html-0.10.0-py3-none-any.whl (13 kB)\n",
      "Collecting pytz\n",
      "  Using cached pytz-2022.7.1-py2.py3-none-any.whl (499 kB)\n",
      "Collecting tzlocal\n",
      "  Downloading tzlocal-4.2-py3-none-any.whl (19 kB)\n",
      "Requirement already satisfied: python-dateutil in c:\\users\\josue\\appdata\\local\\programs\\python\\python39\\lib\\site-packages (from dateparser<2.0.0,>=1.0.0->facebook_scraper) (2.8.2)\n",
      "Collecting regex!=2019.02.19,!=2021.8.27\n",
      "  Downloading regex-2022.10.31-cp39-cp39-win_amd64.whl (267 kB)\n",
      "Collecting pyppeteer>=0.0.14\n",
      "  Downloading pyppeteer-1.0.2-py3-none-any.whl (83 kB)\n",
      "Collecting pyquery\n",
      "  Downloading pyquery-2.0.0-py3-none-any.whl (22 kB)\n",
      "Collecting parse\n",
      "  Downloading parse-1.19.0.tar.gz (30 kB)\n",
      "Collecting bs4\n",
      "  Downloading bs4-0.0.1.tar.gz (1.1 kB)\n",
      "Collecting requests\n",
      "  Downloading requests-2.28.2-py3-none-any.whl (62 kB)\n",
      "Collecting fake-useragent\n",
      "  Downloading fake_useragent-1.1.1-py3-none-any.whl (50 kB)\n",
      "Collecting w3lib\n",
      "  Downloading w3lib-2.1.1-py3-none-any.whl (21 kB)\n",
      "Collecting tzdata; platform_system == \"Windows\"\n",
      "  Downloading tzdata-2022.7-py2.py3-none-any.whl (340 kB)\n",
      "Collecting pytz-deprecation-shim\n",
      "  Downloading pytz_deprecation_shim-0.1.0.post0-py2.py3-none-any.whl (15 kB)\n",
      "Requirement already satisfied: six>=1.5 in c:\\users\\josue\\appdata\\local\\programs\\python\\python39\\lib\\site-packages (from python-dateutil->dateparser<2.0.0,>=1.0.0->facebook_scraper) (1.16.0)\n",
      "Collecting certifi>=2021\n",
      "  Downloading certifi-2022.12.7-py3-none-any.whl (155 kB)\n",
      "Collecting websockets<11.0,>=10.0\n",
      "  Downloading websockets-10.4-cp39-cp39-win_amd64.whl (101 kB)\n",
      "Requirement already satisfied: importlib-metadata>=1.4 in c:\\users\\josue\\appdata\\local\\programs\\python\\python39\\lib\\site-packages (from pyppeteer>=0.0.14->requests-html<0.11.0,>=0.10.0->facebook_scraper) (6.0.0)\n",
      "Collecting tqdm<5.0.0,>=4.42.1\n",
      "  Downloading tqdm-4.64.1-py2.py3-none-any.whl (78 kB)\n",
      "Collecting pyee<9.0.0,>=8.1.0\n",
      "  Downloading pyee-8.2.2-py2.py3-none-any.whl (12 kB)\n",
      "Collecting urllib3<2.0.0,>=1.25.8\n",
      "  Downloading urllib3-1.26.14-py2.py3-none-any.whl (140 kB)\n",
      "Collecting appdirs<2.0.0,>=1.4.3\n",
      "  Downloading appdirs-1.4.4-py2.py3-none-any.whl (9.6 kB)\n",
      "Collecting lxml>=2.1\n",
      "  Downloading lxml-4.9.2-cp39-cp39-win_amd64.whl (3.9 MB)\n",
      "Collecting cssselect>=1.2.0\n",
      "  Downloading cssselect-1.2.0-py2.py3-none-any.whl (18 kB)\n",
      "Requirement already satisfied: beautifulsoup4 in c:\\users\\josue\\appdata\\local\\programs\\python\\python39\\lib\\site-packages (from bs4->requests-html<0.11.0,>=0.10.0->facebook_scraper) (4.11.2)\n",
      "Requirement already satisfied: idna<4,>=2.5 in c:\\users\\josue\\appdata\\local\\programs\\python\\python39\\lib\\site-packages (from requests->requests-html<0.11.0,>=0.10.0->facebook_scraper) (3.4)\n",
      "Collecting charset-normalizer<4,>=2\n",
      "  Downloading charset_normalizer-3.0.1-cp39-cp39-win_amd64.whl (96 kB)\n",
      "Collecting importlib-resources>=5.0; python_version < \"3.10\"\n",
      "  Downloading importlib_resources-5.12.0-py3-none-any.whl (36 kB)\n",
      "Requirement already satisfied: zipp>=0.5 in c:\\users\\josue\\appdata\\local\\programs\\python\\python39\\lib\\site-packages (from importlib-metadata>=1.4->pyppeteer>=0.0.14->requests-html<0.11.0,>=0.10.0->facebook_scraper) (3.15.0)\n",
      "Requirement already satisfied: colorama; platform_system == \"Windows\" in c:\\users\\josue\\appdata\\local\\programs\\python\\python39\\lib\\site-packages (from tqdm<5.0.0,>=4.42.1->pyppeteer>=0.0.14->requests-html<0.11.0,>=0.10.0->facebook_scraper) (0.4.6)\n",
      "Requirement already satisfied: soupsieve>1.2 in c:\\users\\josue\\appdata\\local\\programs\\python\\python39\\lib\\site-packages (from beautifulsoup4->bs4->requests-html<0.11.0,>=0.10.0->facebook_scraper) (2.4)\n",
      "Using legacy 'setup.py install' for demjson3, since package 'wheel' is not installed.\n",
      "Using legacy 'setup.py install' for parse, since package 'wheel' is not installed.\n",
      "Using legacy 'setup.py install' for bs4, since package 'wheel' is not installed.\n",
      "Installing collected packages: pytz, tzdata, pytz-deprecation-shim, tzlocal, regex, dateparser, demjson3, certifi, websockets, tqdm, pyee, urllib3, appdirs, pyppeteer, lxml, cssselect, pyquery, parse, bs4, charset-normalizer, requests, importlib-resources, fake-useragent, w3lib, requests-html, facebook-scraper\n",
      "    Running setup.py install for demjson3: started\n",
      "    Running setup.py install for demjson3: finished with status 'done'\n",
      "    Running setup.py install for parse: started\n",
      "    Running setup.py install for parse: finished with status 'done'\n",
      "    Running setup.py install for bs4: started\n",
      "    Running setup.py install for bs4: finished with status 'done'\n",
      "Successfully installed appdirs-1.4.4 bs4-0.0.1 certifi-2022.12.7 charset-normalizer-3.0.1 cssselect-1.2.0 dateparser-1.1.7 demjson3-3.0.6 facebook-scraper-0.2.59 fake-useragent-1.1.1 importlib-resources-5.12.0 lxml-4.9.2 parse-1.19.0 pyee-8.2.2 pyppeteer-1.0.2 pyquery-2.0.0 pytz-2022.7.1 pytz-deprecation-shim-0.1.0.post0 regex-2022.10.31 requests-2.28.2 requests-html-0.10.0 tqdm-4.64.1 tzdata-2022.7 tzlocal-4.2 urllib3-1.26.14 w3lib-2.1.1 websockets-10.4\n",
      "Note: you may need to restart the kernel to use updated packages.\n"
     ]
    },
    {
     "name": "stderr",
     "output_type": "stream",
     "text": [
      "WARNING: You are using pip version 20.2.3; however, version 23.0.1 is available.\n",
      "You should consider upgrading via the 'c:\\Users\\josue\\AppData\\Local\\Programs\\Python\\Python39\\python.exe -m pip install --upgrade pip' command.\n"
     ]
    }
   ],
   "source": [
    "pip install facebook_scraper"
   ]
  },
  {
   "cell_type": "code",
   "execution_count": 3,
   "id": "27e8c87b",
   "metadata": {},
   "outputs": [
    {
     "name": "stdout",
     "output_type": "stream",
     "text": [
      "Collecting pymongo\n",
      "  Downloading pymongo-4.3.3-cp39-cp39-win_amd64.whl (382 kB)\n",
      "Collecting dnspython<3.0.0,>=1.16.0\n",
      "  Using cached dnspython-2.3.0-py3-none-any.whl (283 kB)\n",
      "Installing collected packages: dnspython, pymongo\n",
      "Successfully installed dnspython-2.3.0 pymongo-4.3.3\n",
      "Note: you may need to restart the kernel to use updated packages.\n"
     ]
    },
    {
     "name": "stderr",
     "output_type": "stream",
     "text": [
      "WARNING: You are using pip version 20.2.3; however, version 23.0.1 is available.\n",
      "You should consider upgrading via the 'c:\\Users\\josue\\AppData\\Local\\Programs\\Python\\Python39\\python.exe -m pip install --upgrade pip' command.\n"
     ]
    }
   ],
   "source": [
    "pip install pymongo"
   ]
  }
 ],
 "metadata": {
  "kernelspec": {
   "display_name": "Python 3",
   "language": "python",
   "name": "python3"
  },
  "language_info": {
   "codemirror_mode": {
    "name": "ipython",
    "version": 3
   },
   "file_extension": ".py",
   "mimetype": "text/x-python",
   "name": "python",
   "nbconvert_exporter": "python",
   "pygments_lexer": "ipython3",
   "version": "3.9.0"
  },
  "vscode": {
   "interpreter": {
    "hash": "c2f0423e1c984f6e3b04d6f209e3439a8a9dd2891f33c324d4724aee0edb5ef6"
   }
  }
 },
 "nbformat": 4,
 "nbformat_minor": 5
}
